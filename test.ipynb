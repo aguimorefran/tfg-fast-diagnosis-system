{
 "cells": [
  {
   "cell_type": "code",
   "execution_count": 3,
   "metadata": {},
   "outputs": [],
   "source": [
    "import requests\n",
    "base_url = 'https://cima.aemps.es/cima/rest/medicamentos'\n",
    "methods = ['medicamentos']"
   ]
  },
  {
   "cell_type": "code",
   "execution_count": 6,
   "metadata": {},
   "outputs": [
    {
     "name": "stdout",
     "output_type": "stream",
     "text": [
      "https://cima.aemps.es/cima/rest/medicamentos?multiple2=SIDA&cargaprincipiosactivos=true&nomostrarip=1&comerc=1\n",
      "200\n",
      "{'totalFilas': 4, 'pagina': 1, 'tamanioPagina': 25, 'resultados': [{'nregistro': '57373', 'nombre': 'INISTON MUCOSIDAD Y CONGESTION 20 MG/ML + 6 MG/ML JARABE', 'pactivos': 'PSEUDOEFEDRINA HIDROCLORURO, GUAIFENESINA', 'labtitular': 'Johnson And Johnson, S.A.', 'cpresc': 'Sin Receta', 'estado': {'aut': 567990000000}, 'comerc': True, 'receta': False, 'generico': False, 'conduc': False, 'triangulo': False, 'huerfano': False, 'biosimilar': False, 'nosustituible': {'id': 0, 'nombre': 'N/A'}, 'psum': False, 'notas': False, 'materialesInf': False, 'ema': False, 'docs': [{'tipo': 1, 'url': 'https://cima.aemps.es/cima/pdfs/ft/57373/FT_57373.pdf', 'urlHtml': 'https://cima.aemps.es/cima/dochtml/ft/57373/FT_57373.html', 'secc': True, 'fecha': 1608166929000}, {'tipo': 2, 'url': 'https://cima.aemps.es/cima/pdfs/p/57373/P_57373.pdf', 'urlHtml': 'https://cima.aemps.es/cima/dochtml/p/57373/P_57373.html', 'secc': True, 'fecha': 1656628835000}], 'principiosActivos': [{'id': 2241, 'codigo': '2241CH', 'nombre': 'PSEUDOEFEDRINA HIDROCLORURO', 'cantidad': '30', 'unidad': 'mg', 'orden': 1}, {'id': 46, 'codigo': '46A', 'nombre': 'GUAIFENESINA', 'cantidad': '100', 'unidad': 'mg', 'orden': 2}], 'excipientes': [{'id': 4661, 'nombre': 'GLICEROL', 'cantidad': '1', 'unidad': 'g', 'orden': 2}, {'id': 5852, 'nombre': 'METILPARABENO (E 218)', 'cantidad': '5', 'unidad': 'mg', 'orden': 3}, {'id': 6975, 'nombre': 'PROPILPARABENO (E 216)', 'cantidad': '0.5', 'unidad': 'mg', 'orden': 4}, {'id': 7368, 'nombre': 'SACAROSA', 'cantidad': '3', 'unidad': 'g', 'orden': 5}, {'id': 1187, 'nombre': 'AMARILLO ANARANJADO S (E 110, CI=15985)', 'cantidad': '0.01', 'unidad': 'mg', 'orden': 6}, {'id': 7316, 'nombre': 'SACARINA SODICA', 'cantidad': '5', 'unidad': 'mg', 'orden': 7}, {'id': 7969, 'nombre': 'TARTRAZINA (E-102; CI=19140)', 'cantidad': '0.1', 'unidad': 'mg', 'orden': 9}], 'viasAdministracion': [{'id': 48, 'nombre': 'VÍA ORAL'}], 'formaFarmaceutica': {'id': 15, 'nombre': 'JARABE'}, 'formaFarmaceuticaSimplificada': {'id': 93, 'nombre': 'SOLUCIÓN/SUSPENSIÓN ORAL'}, 'vtm': {'id': 412399000, 'nombre': 'guaifenesina + pseudoefedrina'}, 'dosis': '30mg pseudoefedrina hidrocloruro/100mg guaifenesin'}, {'nregistro': '75546', 'nombre': 'INISTON MUCOSIDAD 20mg/ml SOLUCION ORAL SABOR MENTA', 'pactivos': 'GUAIFENESINA', 'labtitular': 'Johnson And Johnson, S.A.', 'cpresc': 'Sin Receta', 'estado': {'aut': 1336082400000}, 'comerc': True, 'receta': False, 'generico': False, 'conduc': False, 'triangulo': False, 'huerfano': False, 'biosimilar': False, 'nosustituible': {'id': 0, 'nombre': 'N/A'}, 'psum': False, 'notas': False, 'materialesInf': False, 'ema': False, 'docs': [{'tipo': 1, 'url': 'https://cima.aemps.es/cima/pdfs/ft/75546/FT_75546.pdf', 'urlHtml': 'https://cima.aemps.es/cima/dochtml/ft/75546/FT_75546.html', 'secc': True, 'fecha': 1611972273000}, {'tipo': 2, 'url': 'https://cima.aemps.es/cima/pdfs/p/75546/P_75546.pdf', 'urlHtml': 'https://cima.aemps.es/cima/dochtml/p/75546/P_75546.html', 'secc': True, 'fecha': 1656715433000}], 'principiosActivos': [{'id': 46, 'codigo': '46A', 'nombre': 'GUAIFENESINA', 'cantidad': '100', 'unidad': 'mg', 'orden': 1}], 'excipientes': [{'id': 2479, 'nombre': 'CLORURO DE SODIO', 'cantidad': '5', 'unidad': 'mg', 'orden': 2}, {'id': 7316, 'nombre': 'SACARINA SODICA', 'cantidad': '3.75', 'unidad': 'mg', 'orden': 3}, {'id': 1801, 'nombre': 'BENZOATO DE SODIO  (E 211)', 'cantidad': '5', 'unidad': 'mg', 'orden': 5}, {'id': 2362, 'nombre': 'CITRATO DE SODIO (E-331)', 'cantidad': '24', 'unidad': 'mg', 'orden': 7}, {'id': 7168, 'nombre': 'ROJO PONCEAU 4R (CI=16255, E-124)', 'cantidad': '0.25', 'unidad': 'mg', 'orden': 10}, {'id': 6996, 'nombre': 'PROPILENGLICOL', 'cantidad': '1', 'unidad': 'mg', 'orden': 12}, {'id': 1845, 'nombre': 'ETANOL ANHIDRO', 'cantidad': '197.915', 'unidad': 'mg', 'orden': 13}, {'id': 4661, 'nombre': 'GLICEROL', 'cantidad': '1.031.5', 'unidad': 'mg', 'orden': 16}, {'id': 1276, 'nombre': 'MACROGOLGLICEROL, HIDROXIESTEARATO DE', 'cantidad': '15', 'unidad': 'mg', 'orden': 17}], 'viasAdministracion': [{'id': 48, 'nombre': 'VÍA ORAL'}], 'formaFarmaceutica': {'id': 15, 'nombre': 'JARABE'}, 'formaFarmaceuticaSimplificada': {'id': 93, 'nombre': 'SOLUCIÓN/SUSPENSIÓN ORAL'}, 'vtm': {'id': 386184000, 'nombre': 'guaifenesina'}, 'dosis': '100 mg/5 ml'}, {'nregistro': '55437', 'nombre': 'MOLSIDAIN 2 mg COMPRIMIDOS', 'pactivos': 'MOLSIDOMINA', 'labtitular': 'Cheplapharm Arzneimittel Gmbh', 'cpresc': 'Medicamento Sujeto A Prescripción Médica. Tratamiento De Larga Duración', 'estado': {'aut': 373417200000}, 'comerc': True, 'receta': True, 'generico': False, 'conduc': False, 'triangulo': False, 'huerfano': False, 'biosimilar': False, 'nosustituible': {'id': 0, 'nombre': 'N/A'}, 'psum': False, 'notas': False, 'materialesInf': False, 'ema': False, 'docs': [{'tipo': 1, 'url': 'https://cima.aemps.es/cima/pdfs/ft/55437/FT_55437.pdf', 'urlHtml': 'https://cima.aemps.es/cima/dochtml/ft/55437/FT_55437.html', 'secc': True, 'fecha': 1617057796000}, {'tipo': 2, 'url': 'https://cima.aemps.es/cima/pdfs/p/55437/P_55437.pdf', 'urlHtml': 'https://cima.aemps.es/cima/dochtml/p/55437/P_55437.html', 'secc': True, 'fecha': 1617057806000}], 'principiosActivos': [{'id': 1085, 'codigo': '1085A', 'nombre': 'MOLSIDOMINA', 'cantidad': '2', 'unidad': 'mg', 'orden': 1}], 'excipientes': [{'id': 17064, 'nombre': 'LACTOSA', 'cantidad': '130', 'unidad': 'mg', 'orden': 2}], 'viasAdministracion': [{'id': 48, 'nombre': 'VÍA ORAL'}], 'formaFarmaceutica': {'id': 40, 'nombre': 'COMPRIMIDO'}, 'formaFarmaceuticaSimplificada': {'id': 10, 'nombre': 'COMPRIMIDO'}, 'vtm': {'id': 142381000140104, 'nombre': 'molsidomina'}, 'dosis': '2 mg'}, {'nregistro': '58534', 'nombre': 'MOLSIDAIN 4 mg COMPRIMIDOS', 'pactivos': 'MOLSIDOMINA', 'labtitular': 'Cheplapharm Arzneimittel Gmbh', 'cpresc': 'Medicamento Sujeto A Prescripción Médica. Tratamiento De Larga Duración', 'estado': {'aut': 646783200000}, 'comerc': True, 'receta': True, 'generico': False, 'conduc': False, 'triangulo': False, 'huerfano': False, 'biosimilar': False, 'nosustituible': {'id': 0, 'nombre': 'N/A'}, 'psum': False, 'notas': False, 'materialesInf': False, 'ema': False, 'docs': [{'tipo': 1, 'url': 'https://cima.aemps.es/cima/pdfs/ft/58534/FT_58534.pdf', 'urlHtml': 'https://cima.aemps.es/cima/dochtml/ft/58534/FT_58534.html', 'secc': True, 'fecha': 1617057822000}, {'tipo': 2, 'url': 'https://cima.aemps.es/cima/pdfs/p/58534/P_58534.pdf', 'urlHtml': 'https://cima.aemps.es/cima/dochtml/p/58534/P_58534.html', 'secc': True, 'fecha': 1617057832000}], 'principiosActivos': [{'id': 1085, 'codigo': '1085A', 'nombre': 'MOLSIDOMINA', 'cantidad': '4', 'unidad': 'mg', 'orden': 1}], 'excipientes': [{'id': 17064, 'nombre': 'LACTOSA', 'cantidad': '260', 'unidad': 'mg', 'orden': 2}], 'viasAdministracion': [{'id': 48, 'nombre': 'VÍA ORAL'}], 'formaFarmaceutica': {'id': 40, 'nombre': 'COMPRIMIDO'}, 'formaFarmaceuticaSimplificada': {'id': 10, 'nombre': 'COMPRIMIDO'}, 'vtm': {'id': 142381000140104, 'nombre': 'molsidomina'}, 'dosis': '4 mg'}]}\n"
     ]
    }
   ],
   "source": [
    "#https://cima.aemps.es/cima/rest/medicamentos?multiple2=$SEARCH&cargaprincipiosactivos=true&nomostrarip=1&comerc=1&generico=1\n",
    "# make requests for\n",
    "meds = ['SIDA']\n",
    "for med in meds:\n",
    "    url = base_url + '?multiple2=' + med + '&cargaprincipiosactivos=true&nomostrarip=1&comerc=1'\n",
    "    print(url)\n",
    "    response = requests.get(url)\n",
    "    print(response.status_code)\n",
    "    print(response.json())\n",
    "\n"
   ]
  }
 ],
 "metadata": {
  "kernelspec": {
   "display_name": "Python 3.7.13 ('fds-sasmock')",
   "language": "python",
   "name": "python3"
  },
  "language_info": {
   "codemirror_mode": {
    "name": "ipython",
    "version": 3
   },
   "file_extension": ".py",
   "mimetype": "text/x-python",
   "name": "python",
   "nbconvert_exporter": "python",
   "pygments_lexer": "ipython3",
   "version": "3.7.13"
  },
  "orig_nbformat": 4,
  "vscode": {
   "interpreter": {
    "hash": "d2ce7bb49d5a0520e0b059c24c39b68f7083587d6eab0b2da6539075f278bb22"
   }
  }
 },
 "nbformat": 4,
 "nbformat_minor": 2
}
